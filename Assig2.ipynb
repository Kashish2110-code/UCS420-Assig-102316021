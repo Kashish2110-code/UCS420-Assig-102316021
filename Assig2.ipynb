{
  "nbformat": 4,
  "nbformat_minor": 0,
  "metadata": {
    "colab": {
      "provenance": []
    },
    "kernelspec": {
      "name": "python3",
      "display_name": "Python 3"
    },
    "language_info": {
      "name": "python"
    }
  },
  "cells": [
    {
      "cell_type": "code",
      "execution_count": 1,
      "metadata": {
        "colab": {
          "base_uri": "https://localhost:8080/"
        },
        "id": "nbQn7iWdzWIt",
        "outputId": "e00ae74c-cf07-4a0f-e1d8-6c7f9bba4a4b"
      },
      "outputs": [
        {
          "output_type": "stream",
          "name": "stdout",
          "text": [
            "After adding 200 and 300: [10, 20, 30, 40, 50, 60, 70, 80, 200, 300]\n"
          ]
        }
      ],
      "source": [
        "#Q1 -----------------------------------------------------\n",
        "L = [10, 20, 30, 40, 50, 60, 70, 80]\n",
        "\n",
        "# i. Add 200 and 300 to L\n",
        "L.append(200)\n",
        "L.append(300)\n",
        "print(\"After adding 200 and 300:\", L)\n",
        "\n",
        "\n"
      ]
    },
    {
      "cell_type": "code",
      "source": [
        "L = [10, 20, 30, 40, 50, 60, 70, 80]\n",
        "#  Remove 10 and 30\n",
        "L.remove(10)\n",
        "L.remove(30)\n",
        "print(\"After removing 10 and 30:\", L)\n"
      ],
      "metadata": {
        "colab": {
          "base_uri": "https://localhost:8080/"
        },
        "id": "cT8ibEmszkXu",
        "outputId": "7740b08a-3e37-432c-f292-2e0db751bc99"
      },
      "execution_count": 2,
      "outputs": [
        {
          "output_type": "stream",
          "name": "stdout",
          "text": [
            "After removing 10 and 30: [20, 40, 50, 60, 70, 80]\n"
          ]
        }
      ]
    },
    {
      "cell_type": "code",
      "source": [
        "L = [10, 20, 30, 40, 50, 60, 70, 80]\n",
        "#  Sort L in ascending order\n",
        "L.sort()\n",
        "print(\"List in ascending order:\", L)"
      ],
      "metadata": {
        "colab": {
          "base_uri": "https://localhost:8080/"
        },
        "id": "Ji32cabHz0zd",
        "outputId": "02750df8-ba8b-4a78-d59e-6b97a9be441b"
      },
      "execution_count": 3,
      "outputs": [
        {
          "output_type": "stream",
          "name": "stdout",
          "text": [
            "List in ascending order: [10, 20, 30, 40, 50, 60, 70, 80]\n"
          ]
        }
      ]
    },
    {
      "cell_type": "code",
      "source": [
        "L = [10, 20, 30, 40, 50, 60, 70, 80]\n",
        "#  Sort L in descending order\n",
        "L.sort(reverse=True)\n",
        "print(\"List in descending order:\", L)"
      ],
      "metadata": {
        "colab": {
          "base_uri": "https://localhost:8080/"
        },
        "id": "itj3dPX90Aa9",
        "outputId": "48a0247e-8840-4495-a331-40ff5e5af50b"
      },
      "execution_count": 4,
      "outputs": [
        {
          "output_type": "stream",
          "name": "stdout",
          "text": [
            "List in descending order: [80, 70, 60, 50, 40, 30, 20, 10]\n"
          ]
        }
      ]
    },
    {
      "cell_type": "code",
      "source": [
        "# 02 ---------------------------------------\n",
        "# Define the tuple\n",
        "scores = (45, 89.5, 76, 45.4, 89, 92, 58, 45)\n",
        "\n",
        "# i. Identify the highest score and its index in the tuple\n",
        "highest_score = max(scores)\n",
        "highest_index = scores.index(highest_score)\n",
        "print (\"highest score\",highest_score)\n",
        "print  (\"higest_index\",highest_index)\n",
        "\n"
      ],
      "metadata": {
        "colab": {
          "base_uri": "https://localhost:8080/"
        },
        "id": "gt6JkWh_0jLD",
        "outputId": "55e49754-c577-450b-f0a6-d6f3e7c5616b"
      },
      "execution_count": 5,
      "outputs": [
        {
          "output_type": "stream",
          "name": "stdout",
          "text": [
            "highest score 92\n",
            "higest_index 5\n"
          ]
        }
      ]
    },
    {
      "cell_type": "code",
      "source": [
        "scores = (45, 89.5, 76, 45.4, 89, 92, 58, 45)\n",
        "# ii. Find the lowest score and count how many times it appears\n",
        "lowest_score = min(scores)\n",
        "lowest_count = scores.count(lowest_score)\n",
        "print (\"lowest score\",lowest_score)\n",
        "print  (\"lowest_index\",lowest_count)\n"
      ],
      "metadata": {
        "colab": {
          "base_uri": "https://localhost:8080/"
        },
        "id": "rrI0DVoh1rmh",
        "outputId": "a6e01530-322b-4e34-ce8f-e9f853d0116f"
      },
      "execution_count": 9,
      "outputs": [
        {
          "output_type": "stream",
          "name": "stdout",
          "text": [
            "lowest score 45\n",
            "lowest_index 2\n"
          ]
        }
      ]
    },
    {
      "cell_type": "code",
      "source": [
        "scores = (45, 89.5, 76, 45.4, 89, 92, 58, 45)\n",
        "# iii. Reverse the tuple and return it as a list\n",
        "reversed_list = list(scores[::-1])\n",
        "print(\"Reversed tuple as a list:\", reversed_list)"
      ],
      "metadata": {
        "colab": {
          "base_uri": "https://localhost:8080/"
        },
        "id": "rCiTtbLp2TSy",
        "outputId": "9bdbda81-f07f-47c3-ea55-4670e30259a5"
      },
      "execution_count": 8,
      "outputs": [
        {
          "output_type": "stream",
          "name": "stdout",
          "text": [
            "Reversed tuple as a list: [45, 58, 92, 89, 45.4, 76, 89.5, 45]\n"
          ]
        }
      ]
    },
    {
      "cell_type": "code",
      "source": [
        "scores = (45, 89.5, 76, 45.4, 89, 92, 58, 45)\n",
        "# iv. Check if a specific score (76) is present in the tuple\n",
        "specific_score = 76  # Input score\n",
        "if specific_score in scores:\n",
        "    first_index = scores.index(specific_score)\n",
        "    print(f\"The score {specific_score} is present at index {first_index}.\")\n",
        "else:\n",
        "    print(f\"The score {specific_score} is not present in the tuple.\")\n",
        "\n"
      ],
      "metadata": {
        "colab": {
          "base_uri": "https://localhost:8080/"
        },
        "id": "SWVzfR-o2TFV",
        "outputId": "b92e48e2-676e-4f80-e802-d77a26ca94d8"
      },
      "execution_count": 7,
      "outputs": [
        {
          "output_type": "stream",
          "name": "stdout",
          "text": [
            "The score 76 is present at index 2.\n"
          ]
        }
      ]
    },
    {
      "cell_type": "code",
      "source": [
        "# Q3 WAP to create a list of 100 random numbers between 100 and 900. Count and print\n",
        "# the:\n",
        "\n",
        "# All odd numbers\n",
        "# All even numbers\n",
        "# All prime numbers\n",
        "\n",
        "import random\n",
        "listX = [random.randint(100,900) for _ in range(100)]\n",
        "print(\"List :\",listX)\n",
        "evenN = [x for x in listX if x%2==0]\n",
        "print(\"Even Num:\", evenN)\n",
        "oddN = [x for x in listX if not x%2==0]\n",
        "print(\"Odd Num:\",oddN)\n",
        "primeN = [x for x in listX if all(i%x!=0 for i in range(2,int(x**0.5)+1))]\n",
        "print(\"Prime Num:\",primeN)"
      ],
      "metadata": {
        "colab": {
          "base_uri": "https://localhost:8080/"
        },
        "id": "BLmwzBxZ2S2H",
        "outputId": "2c4c1c6e-8cfa-4ddc-9962-8916fe7d5818"
      },
      "execution_count": 10,
      "outputs": [
        {
          "output_type": "stream",
          "name": "stdout",
          "text": [
            "List : [818, 808, 676, 413, 603, 166, 855, 594, 850, 464, 487, 141, 691, 696, 384, 341, 167, 161, 746, 316, 577, 576, 475, 699, 311, 113, 247, 862, 324, 240, 845, 838, 507, 887, 292, 144, 350, 129, 761, 409, 811, 793, 509, 382, 104, 818, 802, 799, 775, 798, 282, 825, 705, 242, 411, 466, 217, 800, 886, 890, 314, 125, 529, 440, 883, 124, 403, 821, 120, 201, 740, 421, 743, 654, 590, 681, 417, 539, 247, 358, 576, 772, 240, 168, 323, 469, 121, 894, 605, 223, 177, 101, 515, 134, 561, 209, 306, 704, 559, 868]\n",
            "Even Num: [818, 808, 676, 166, 594, 850, 464, 696, 384, 746, 316, 576, 862, 324, 240, 838, 292, 144, 350, 382, 104, 818, 802, 798, 282, 242, 466, 800, 886, 890, 314, 440, 124, 120, 740, 654, 590, 358, 576, 772, 240, 168, 894, 134, 306, 704, 868]\n",
            "Odd Num: [413, 603, 855, 487, 141, 691, 341, 167, 161, 577, 475, 699, 311, 113, 247, 845, 507, 887, 129, 761, 409, 811, 793, 509, 799, 775, 825, 705, 411, 217, 125, 529, 883, 403, 821, 201, 421, 743, 681, 417, 539, 247, 323, 469, 121, 605, 223, 177, 101, 515, 561, 209, 559]\n",
            "Prime Num: [818, 808, 676, 413, 603, 166, 855, 594, 850, 464, 487, 141, 691, 696, 384, 341, 167, 161, 746, 316, 577, 576, 475, 699, 311, 113, 247, 862, 324, 240, 845, 838, 507, 887, 292, 144, 350, 129, 761, 409, 811, 793, 509, 382, 104, 818, 802, 799, 775, 798, 282, 825, 705, 242, 411, 466, 217, 800, 886, 890, 314, 125, 529, 440, 883, 124, 403, 821, 120, 201, 740, 421, 743, 654, 590, 681, 417, 539, 247, 358, 576, 772, 240, 168, 323, 469, 121, 894, 605, 223, 177, 101, 515, 134, 561, 209, 306, 704, 559, 868]\n"
          ]
        }
      ]
    },
    {
      "cell_type": "code",
      "source": [
        "# Q4  Consider the following two sets, A and B, represen ng scores of two teams in mul ple\n",
        "# matches.  A = {34, 56, 78, 90}  and B = {78, 45, 90, 23}\n",
        "# WAP to perform the following opera ons using set functio ons:\n",
        "# i. Find the unique scores achieved by both teams (union of sets).\n",
        "# ii Iden fy the scores that are common to both teams (intersec on of sets).\n",
        "# iii Find the scores that are exclusive to each team (symmetric difference).\n",
        "# iv Check if the scores of team A are a subset of team B, and if team B's scores are\n",
        "# a superset of team A.\n",
        "# v Remove a specific score 𝑋 (input by the user) from set A if it exists. If not, print\n",
        "# a message saying it is not present.\n",
        "A = {34, 56, 78, 90}\n",
        "B = {78, 45, 90, 23}\n",
        "print(A|B)\n",
        "print(A&B)\n",
        "print(A.symmetric_difference(B))\n",
        "\n",
        "print(f\"The scores of team A are a subset of team B: {A.issubset(B)}\")\n",
        "print(f\"team B's scores are a superset of team A: {B.issuperset(A)}\")\n",
        "\n",
        "user_in = int(input(\"Enter a score: \"))\n",
        "# Try to remove the score from A\n",
        "if user_in in A:\n",
        "    A.remove(user_in)\n",
        "    print(f\"Score {user_in} removed.\")\n",
        "else:\n",
        "    print(f\"Score {user_in} not present in team A.\")\n",
        "\n"
      ],
      "metadata": {
        "colab": {
          "base_uri": "https://localhost:8080/"
        },
        "id": "Wil48Qwt5m1H",
        "outputId": "2e3f8eaf-83f7-440c-8a79-59200214fd0b"
      },
      "execution_count": 13,
      "outputs": [
        {
          "output_type": "stream",
          "name": "stdout",
          "text": [
            "{34, 45, 78, 23, 56, 90}\n",
            "{90, 78}\n",
            "{34, 45, 23, 56}\n",
            "The scores of team A are a subset of team B: False\n",
            "team B's scores are a superset of team A: False\n",
            "Enter a score: 90\n",
            "Score 90 removed.\n"
          ]
        }
      ]
    },
    {
      "cell_type": "code",
      "source": [
        " # Q5-----------------------\n",
        "dict1 = {\n",
        "    'name':\"Kashish Rana\",\n",
        "    'age' :20,\n",
        "    'salary' :100000000,\n",
        "    'city': 'Sarkagahat'\n",
        "}\n",
        "print(dict1)\n",
        "dict1['location'] = dict1.pop('city')\n",
        "print(dict1)"
      ],
      "metadata": {
        "colab": {
          "base_uri": "https://localhost:8080/"
        },
        "id": "C3g7vMw75mqG",
        "outputId": "e14dcaee-1c49-42e9-e92b-3512f8dc0ee7"
      },
      "execution_count": 12,
      "outputs": [
        {
          "output_type": "stream",
          "name": "stdout",
          "text": [
            "{'name': 'Kashish Rana', 'age': 20, 'salary': 100000000, 'city': 'Sarkagahat'}\n",
            "{'name': 'Kashish Rana', 'age': 20, 'salary': 100000000, 'location': 'Sarkagahat'}\n"
          ]
        }
      ]
    },
    {
      "cell_type": "code",
      "source": [],
      "metadata": {
        "id": "pOS6xadE5mb3"
      },
      "execution_count": null,
      "outputs": []
    }
  ]
}