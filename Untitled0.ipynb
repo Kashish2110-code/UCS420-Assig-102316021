{
  "nbformat": 4,
  "nbformat_minor": 0,
  "metadata": {
    "colab": {
      "provenance": []
    },
    "kernelspec": {
      "name": "python3",
      "display_name": "Python 3"
    },
    "language_info": {
      "name": "python"
    }
  },
  "cells": [
    {
      "cell_type": "code",
      "execution_count": 1,
      "metadata": {
        "colab": {
          "base_uri": "https://localhost:8080/"
        },
        "id": "bHxv_PKhHqwN",
        "outputId": "8322a07f-7b51-4f82-9452-b168612d18ee"
      },
      "outputs": [
        {
          "output_type": "stream",
          "name": "stdout",
          "text": [
            "KASHISH\n",
            "KASHISH\n",
            "KASHISH\n"
          ]
        }
      ],
      "source": [
        "#1.1: WAP to print your name three times\n",
        "\n",
        "print(\"KASHISH\")\n",
        "print(\"KASHISH\")\n",
        "print(\"KASHISH\")"
      ]
    },
    {
      "cell_type": "code",
      "source": [
        "#2.1:WAP to add three numbers and print the result.\n",
        "\n",
        "a=10\n",
        "b=20\n",
        "c=90\n",
        "print(a+b+c)"
      ],
      "metadata": {
        "colab": {
          "base_uri": "https://localhost:8080/"
        },
        "id": "wwOqk613H7O4",
        "outputId": "b0980af2-9f1f-4df1-f407-46b61141bd34"
      },
      "execution_count": 2,
      "outputs": [
        {
          "output_type": "stream",
          "name": "stdout",
          "text": [
            "120\n"
          ]
        }
      ]
    },
    {
      "cell_type": "code",
      "source": [
        "#2.2: WAP to concatinate three strings and print the result.\n",
        "\n",
        "a=\"KA\"\n",
        "b=\"SH\"\n",
        "c=\"ISH\"\n",
        "print(a+b+c)\n"
      ],
      "metadata": {
        "colab": {
          "base_uri": "https://localhost:8080/"
        },
        "id": "kvdKqhi9IHD-",
        "outputId": "6d7baba3-1122-49fc-ce8f-054c88bdd683"
      },
      "execution_count": 3,
      "outputs": [
        {
          "output_type": "stream",
          "name": "stdout",
          "text": [
            "KASHISH\n"
          ]
        }
      ]
    },
    {
      "cell_type": "code",
      "source": [
        "#4.1: WAP to print the table of 7, 9\n",
        "\n",
        "a=int(input(\"enter the number:\"))  # we can input 7 and 9 respectively\n",
        "for i in range(1,11,1):\n",
        "  print(i*a)\n"
      ],
      "metadata": {
        "colab": {
          "base_uri": "https://localhost:8080/"
        },
        "id": "9ekirPxlIhnI",
        "outputId": "d45cf74a-468f-4b89-9e04-1b4acb55c0de"
      },
      "execution_count": 4,
      "outputs": [
        {
          "output_type": "stream",
          "name": "stdout",
          "text": [
            "enter the number:1\n",
            "1\n",
            "2\n",
            "3\n",
            "4\n",
            "5\n",
            "6\n",
            "7\n",
            "8\n",
            "9\n",
            "10\n"
          ]
        }
      ]
    },
    {
      "cell_type": "code",
      "source": [
        "#4.2: WAP to print the table of n and n is given by user.\n",
        "\n",
        "n=int(input(\"enter the number:\"))\n",
        "for i in range(1,11,1):\n",
        "  print(i*n)"
      ],
      "metadata": {
        "colab": {
          "base_uri": "https://localhost:8080/"
        },
        "id": "P6GKgBz8Il-h",
        "outputId": "62b2d59b-2864-44ab-d056-566239b7733a"
      },
      "execution_count": 5,
      "outputs": [
        {
          "output_type": "stream",
          "name": "stdout",
          "text": [
            "enter the number:2\n",
            "2\n",
            "4\n",
            "6\n",
            "8\n",
            "10\n",
            "12\n",
            "14\n",
            "16\n",
            "18\n",
            "20\n"
          ]
        }
      ]
    },
    {
      "cell_type": "code",
      "source": [
        "#4.3: WAP to add all the numbers from 1 to n and n is given by user.\n",
        "\n",
        "n=int(input(\"enter the number:\"))\n",
        "sum=0\n",
        "while n>0:\n",
        "  sum=sum+n\n",
        "  n=n-1\n",
        "print(sum)\n"
      ],
      "metadata": {
        "colab": {
          "base_uri": "https://localhost:8080/"
        },
        "id": "z9rQ-l6zIq0e",
        "outputId": "0d33cb12-64de-4254-e4cf-8c10ada097fc"
      },
      "execution_count": 6,
      "outputs": [
        {
          "output_type": "stream",
          "name": "stdout",
          "text": [
            "enter the number:3\n",
            "6\n"
          ]
        }
      ]
    },
    {
      "cell_type": "code",
      "source": [
        "#5.1: WAP to find max amoung three numbers and input from user. [Try max() function]\n",
        "\n",
        "a=int(input(\"enter the first number:\"))\n",
        "b=int(input(\"enter the second number:\"))\n",
        "c=int(input(\"enter the third number:\"))\n",
        "print(max(a,b,c))\n"
      ],
      "metadata": {
        "colab": {
          "base_uri": "https://localhost:8080/"
        },
        "id": "Crhp2J3WIu0u",
        "outputId": "7fc2f26f-8d8c-4a78-9069-7d6fb14de9c4"
      },
      "execution_count": 7,
      "outputs": [
        {
          "output_type": "stream",
          "name": "stdout",
          "text": [
            "enter the first number:4\n",
            "enter the second number:4\n",
            "enter the third number:9\n",
            "9\n"
          ]
        }
      ]
    },
    {
      "cell_type": "code",
      "source": [
        "#5.2: WAP to add all numbers divisible by 7 and 9 from 1 to n and n is given by the user.\n",
        "\n",
        "n=int(input(\"enter the number:\"))\n",
        "sum=0\n",
        "for i in range(1,n+1) :\n",
        "  if(i%7==0 and i%9==0):\n",
        "    sum=sum+i\n",
        "\n",
        "print(sum)\n"
      ],
      "metadata": {
        "colab": {
          "base_uri": "https://localhost:8080/"
        },
        "id": "LFU7WVXpIy0C",
        "outputId": "b955259a-5a54-4e1e-e491-2673fd1387c5"
      },
      "execution_count": 8,
      "outputs": [
        {
          "output_type": "stream",
          "name": "stdout",
          "text": [
            "enter the number:2\n",
            "0\n"
          ]
        }
      ]
    },
    {
      "cell_type": "code",
      "source": [
        "#5.3: WAP to add all prime numbers from 1 to n and n is given by the user.\n",
        "\n",
        "\n",
        "n=int(input(\"enter the number:\"))\n",
        "sum=0\n",
        "for i in range(2,n+1): #because 1 is not a prime number\n",
        "  flag=0\n",
        "  for j in range(2,int((i/2)+1)):\n",
        "    if(i%j==0):\n",
        "      flag=1\n",
        "      break\n",
        "\n",
        "  if(flag==0):\n",
        "      sum=sum+i\n",
        "\n",
        "\n",
        "print(sum)"
      ],
      "metadata": {
        "colab": {
          "base_uri": "https://localhost:8080/"
        },
        "id": "vkBJspBQI6Bn",
        "outputId": "a8228ac3-00e3-4b7c-ebd3-65d4cdc72e7d"
      },
      "execution_count": 9,
      "outputs": [
        {
          "output_type": "stream",
          "name": "stdout",
          "text": [
            "enter the number:4\n",
            "5\n"
          ]
        }
      ]
    },
    {
      "cell_type": "code",
      "source": [
        "# 6.1\n",
        "\n",
        "def is_prime(num):\n",
        "    if num < 2:\n",
        "        return False\n",
        "    for i in range(2, int(num**0.5) + 1):  # Check divisibility up to sqrt(num)\n",
        "        if num % i == 0:\n",
        "            return False\n",
        "    return True\n",
        "\n",
        "\n",
        "def sum_prime_numbers(n):\n",
        "    total_sum = 0\n",
        "    for i in range(2, n + 1):  # Start at 2 because 1 is not prime\n",
        "        if is_prime(i):\n",
        "            total_sum += i\n",
        "    return total_sum\n",
        "\n",
        "\n",
        "n = int(input(\"Enter the value of n: \"))\n",
        "\n",
        "\n",
        "result = sum_prime_numbers(n)\n",
        "print(\"The sum of all prime numbers from 1 to\", n, \"is:\", result)"
      ],
      "metadata": {
        "colab": {
          "base_uri": "https://localhost:8080/"
        },
        "id": "cYZ4-nq8JAwv",
        "outputId": "c9b9d02e-d544-43aa-adfe-4835216285d1"
      },
      "execution_count": 10,
      "outputs": [
        {
          "output_type": "stream",
          "name": "stdout",
          "text": [
            "Enter the value of n: 3\n",
            "The sum of all prime numbers from 1 to 3 is: 5\n"
          ]
        }
      ]
    },
    {
      "cell_type": "code",
      "source": [
        "6.2# Function to add all odd numbers from 1 to n\n",
        "def sum_odd_numbers(n):\n",
        "    total_sum = 0\n",
        "    for i in range(1, n + 1, 2):  # Start at 1, step by 2 to get only odd numbers\n",
        "        total_sum += i\n",
        "    return total_sum\n",
        "\n",
        "\n",
        "n = int(input(\"Enter the value of n: \"))\n",
        "\n",
        "\n",
        "result = sum_odd_numbers(n)\n",
        "print(\"The sum of all odd numbers from 1 to\", n, \"is:\", result)"
      ],
      "metadata": {
        "colab": {
          "base_uri": "https://localhost:8080/"
        },
        "id": "_lEmuQG8JHdC",
        "outputId": "62efb76b-a650-4c88-881e-d92d1574c99c"
      },
      "execution_count": 11,
      "outputs": [
        {
          "output_type": "stream",
          "name": "stdout",
          "text": [
            "Enter the value of n: 5\n",
            "The sum of all odd numbers from 1 to 5 is: 9\n"
          ]
        }
      ]
    },
    {
      "cell_type": "code",
      "source": [],
      "metadata": {
        "id": "BXcOtmCEJo1c"
      },
      "execution_count": 11,
      "outputs": []
    }
  ]
}